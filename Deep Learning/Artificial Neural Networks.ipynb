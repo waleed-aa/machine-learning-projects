{
 "cells": [
  {
   "cell_type": "markdown",
   "id": "d7ac427a",
   "metadata": {},
   "source": [
    "# Deep Learning With Tensorflow\n",
    "\n",
    "\n",
    "This notebook will implement the architecture of an artificial neural network using the TensorFlow framework. I will utilize the iconic MNIST dataset to deploy the model. The MNIST dataset contains 28x28 pixel images of handwritten digits from 0 - 9. This is a multiclass classification problem with 10 classes."
   ]
  },
  {
   "cell_type": "code",
   "execution_count": 6,
   "id": "1b98371a",
   "metadata": {},
   "outputs": [],
   "source": [
    "import tensorflow as tf\n",
    "from tensorflow import keras\n",
    "import numpy as np\n",
    "from tensorflow.keras.models import Sequential\n",
    "from tensorflow.keras.layers import Activation, Dense, Flatten, BatchNormalization, Conv2D, MaxPool2D\n",
    "from tensorflow.keras.metrics import categorical_crossentropy, sparse_categorical_crossentropy\n",
    "from tensorflow.keras import layers\n",
    "from tensorflow.keras.optimizers import Adam, SGD\n",
    "from tensorflow.keras.datasets import mnist\n",
    "from sklearn.metrics import confusion_matrix"
   ]
  },
  {
   "cell_type": "markdown",
   "id": "5f96553f",
   "metadata": {},
   "source": [
    "Get the GPU up and running !"
   ]
  },
  {
   "cell_type": "code",
   "execution_count": 2,
   "id": "658ec9c7",
   "metadata": {},
   "outputs": [
    {
     "name": "stdout",
     "output_type": "stream",
     "text": [
      "Graphics Processing Unit:  1\n"
     ]
    }
   ],
   "source": [
    "import tensorflow as tf\n",
    "# The GPU is up and running !\n",
    "GPU = tf.config.experimental.list_physical_devices('GPU')\n",
    "print(\"Graphics Processing Unit: \", len(GPU))"
   ]
  },
  {
   "cell_type": "markdown",
   "id": "fed9f5df",
   "metadata": {},
   "source": [
    "We need to pay close attention to the datastructure of our problem set. This is arguably the most important aspect of developing a predictive model. Be mindful of the dimensions/shapes of the input and output layers."
   ]
  },
  {
   "cell_type": "code",
   "execution_count": 8,
   "id": "5373d42b",
   "metadata": {},
   "outputs": [],
   "source": [
    "def info(x):\n",
    "    print(\"The datatype of rach element: \", X_train.dtype)\n",
    "    print(\"The number of dimensions \", X_train.ndim)\n",
    "    print(\"The shape of tensor: \", tf.shape(X_train))\n",
    "    print(\"Elements along the 0 axis :\", X_train.shape[0])\n",
    "    print(\"Elements along the last axis: \", X_train.shape[-1])\n",
    "    print(\"The total number of elements in tensor: \", tf.size(X_train))\n",
    "    print(\"The total number of elements in tensor: \", tf.size(X_train).numpy()) "
   ]
  },
  {
   "cell_type": "code",
   "execution_count": 19,
   "id": "c0d765b3",
   "metadata": {},
   "outputs": [],
   "source": [
    "(X_train, y_train), (X_test, y_test) = tf.keras.datasets.fashion_mnist.load_data()"
   ]
  },
  {
   "cell_type": "markdown",
   "id": "33969780",
   "metadata": {},
   "source": [
    "Normalizing features is a standard preprocessing task. This allows gradient descent to converge faster."
   ]
  },
  {
   "cell_type": "code",
   "execution_count": 20,
   "id": "6fc6f2e6",
   "metadata": {},
   "outputs": [],
   "source": [
    "# Rescaling Images\n",
    "X_train  = X_train / 255.0"
   ]
  },
  {
   "cell_type": "code",
   "execution_count": 17,
   "id": "859b4f70",
   "metadata": {},
   "outputs": [
    {
     "name": "stdout",
     "output_type": "stream",
     "text": [
      "The datatype of rach element:  float64\n",
      "The number of dimensions  3\n",
      "The shape of tensor:  tf.Tensor([60000    28    28], shape=(3,), dtype=int32)\n",
      "Elements along the 0 axis : 60000\n",
      "Elements along the last axis:  28\n",
      "The total number of elements in tensor:  tf.Tensor(47040000, shape=(), dtype=int32)\n",
      "The total number of elements in tensor:  47040000\n"
     ]
    }
   ],
   "source": [
    "info(X_train)"
   ]
  },
  {
   "cell_type": "markdown",
   "id": "0b36a752",
   "metadata": {},
   "source": [
    "# Modelling\n",
    "\n",
    "There are three different methods of deploying a nueral network with Tensorflow. These are the sequential, functional and subclass API's. Within the Sequential API, we can either create the neural network by utilizing 'model.add' or we can pass the entire architecture in a list.\n",
    "\n",
    "The architecture of a neural network consists of an input layer, hidden layers and an output layer. The input features are flattened (28 x 28 into 784) into a single vector and are passed onto the subsequent hidden layers where the dot product of the weights and the input features takes place. The output is then passed through an activation function (relu in our case) and the output of this first hidden layer is then passed onto the second hidden layer. This process is repeated until the data is passed onto the output layer where an activation function like sigmoid or softmax is deployed for classification problems. These activation functions return probabilities for each class.   "
   ]
  },
  {
   "cell_type": "code",
   "execution_count": 21,
   "id": "4e88fa5f",
   "metadata": {},
   "outputs": [
    {
     "name": "stdout",
     "output_type": "stream",
     "text": [
      "Model: \"sequential_4\"\n",
      "_________________________________________________________________\n",
      "Layer (type)                 Output Shape              Param #   \n",
      "=================================================================\n",
      "input_layer (Flatten)        (None, 784)               0         \n",
      "_________________________________________________________________\n",
      "layer_1 (Dense)              (None, 32)                25120     \n",
      "_________________________________________________________________\n",
      "layer_2 (Dense)              (None, 64)                2112      \n",
      "_________________________________________________________________\n",
      "layer_3 (Dense)              (None, 128)               8320      \n",
      "_________________________________________________________________\n",
      "output_layer (Dense)         (None, 10)                1290      \n",
      "=================================================================\n",
      "Total params: 36,842\n",
      "Trainable params: 36,842\n",
      "Non-trainable params: 0\n",
      "_________________________________________________________________\n"
     ]
    }
   ],
   "source": [
    "# Sequential API method 1\n",
    "model = tf.keras.Sequential() # instantiate sequential API\n",
    "model.add(tf.keras.layers.Flatten(input_shape=[28,28], name=\"input_layer\")) # flatten the 28x28 image\n",
    "model.add(tf.keras.layers.Dense(32, activation = \"relu\", name = \"layer_1\")) # first hidden layer with 32 neurons\n",
    "model.add(tf.keras.layers.Dense(64, activation= \"relu\", name= \"layer_2\")) # second hidden layer with 64 neurons\n",
    "model.add(tf.keras.layers.Dense(128, activation= \"relu\", name=\"layer_3\")) # third hidden layer with 128 neurons\n",
    "model.add(tf.keras.layers.Dense(10, activation= \"softmax\", name=\"output_layer\")) # final output layer with 10 neurons one for each number\n",
    "model.summary() \n",
    "\n",
    "\n",
    "# Sequential API method 2\n",
    "model = tf.keras.Sequential([\n",
    "                     tf.keras.layers.Flatten(input_shape=(28,28)),\n",
    "                     tf.keras.layers.Dense(32, activation=\"relu\"),        \n",
    "                     tf.keras.layers.Dense(64, activation=\"relu\"),\n",
    "                     tf.keras.layers.Dense(128, activation=\"relu\"),        \n",
    "                     tf.keras.layers.Dense(10, activation=\"softmax\"),])"
   ]
  },
  {
   "cell_type": "markdown",
   "id": "8fa1eac1",
   "metadata": {},
   "source": [
    "Now we will compile the model. At this stage we select the optimization function, learning rate and loss function. The optimizer takes the derivates of the weights and biases with respect to the loss function in order to find the parameters that minimize the loss. All optimizers carry out the same objective, however there are some differences as to how each variant carries out this process. The differences entail tradeoffs in speed and resources. \n",
    "\n",
    "The loss function is typically categorical crossentropy or sparse categorical crossentropy. The former expects the features to be one-hot-encoded. We have used the latter here because the output function contains 10 features that are not one hot encoded.\n",
    "\n",
    "We can use all available evaluation metrics to gauge model performance. Typically for a balanced dataset, accuracy will make do, however its still good to take a look at other performace specific metrics for evaluation.\n",
    "\n",
    "- Optimizer : Adam, SGD, RMSprop, minibatchSGD\n",
    "- loss: categorical_crossentropy or sparse categorical crossentropy\n",
    "- metrics: accuracy, auc/roc, F1, precision, recall etc"
   ]
  },
  {
   "cell_type": "code",
   "execution_count": 22,
   "id": "94f0fca5",
   "metadata": {},
   "outputs": [],
   "source": [
    "# Compilation stage\n",
    "model.compile(Adam(learning_rate=  0.01), \n",
    "loss = 'sparse_categorical_crossentropy', \n",
    "metrics = ['accuracy'])"
   ]
  },
  {
   "cell_type": "markdown",
   "id": "47cbe5b0",
   "metadata": {},
   "source": [
    "With the model architecture all set up and compiled, we are ready to train the model. The model.fit method takes in the training input and labeled outout, creates a validation set for testing, a batch size, and number of epochs. "
   ]
  },
  {
   "cell_type": "code",
   "execution_count": 25,
   "id": "9bb219d5",
   "metadata": {},
   "outputs": [
    {
     "name": "stdout",
     "output_type": "stream",
     "text": [
      "Epoch 1/10\n",
      "2400/2400 [==============================] - 8s 3ms/step - loss: 0.4488 - accuracy: 0.8460 - val_loss: 0.4545 - val_accuracy: 0.8397\n",
      "Epoch 2/10\n",
      "2400/2400 [==============================] - 7s 3ms/step - loss: 0.4450 - accuracy: 0.8471 - val_loss: 0.4895 - val_accuracy: 0.8231\n",
      "Epoch 3/10\n",
      "2400/2400 [==============================] - 7s 3ms/step - loss: 0.4508 - accuracy: 0.8443 - val_loss: 0.4872 - val_accuracy: 0.8422\n",
      "Epoch 4/10\n",
      "2400/2400 [==============================] - 7s 3ms/step - loss: 0.4267 - accuracy: 0.8511 - val_loss: 0.4648 - val_accuracy: 0.8457\n",
      "Epoch 5/10\n",
      "2400/2400 [==============================] - 7s 3ms/step - loss: 0.4478 - accuracy: 0.8470 - val_loss: 0.4874 - val_accuracy: 0.8393\n",
      "Epoch 6/10\n",
      "2400/2400 [==============================] - 7s 3ms/step - loss: 0.4412 - accuracy: 0.8489 - val_loss: 0.4740 - val_accuracy: 0.8457\n",
      "Epoch 7/10\n",
      "2400/2400 [==============================] - 7s 3ms/step - loss: 0.4271 - accuracy: 0.8522 - val_loss: 0.5058 - val_accuracy: 0.8376\n",
      "Epoch 8/10\n",
      "2400/2400 [==============================] - 8s 3ms/step - loss: 0.4534 - accuracy: 0.8422 - val_loss: 0.5249 - val_accuracy: 0.8285\n",
      "Epoch 9/10\n",
      "2400/2400 [==============================] - 8s 3ms/step - loss: 0.4667 - accuracy: 0.8345 - val_loss: 0.4691 - val_accuracy: 0.8437\n",
      "Epoch 10/10\n",
      "2400/2400 [==============================] - 8s 3ms/step - loss: 0.4233 - accuracy: 0.8526 - val_loss: 0.5011 - val_accuracy: 0.8479\n"
     ]
    }
   ],
   "source": [
    "history = model.fit(X_train,\n",
    "          y_train,\n",
    "          validation_split= 0.2,\n",
    "          batch_size = 20,\n",
    "          epochs =10)"
   ]
  },
  {
   "cell_type": "code",
   "execution_count": 26,
   "id": "d29d01f6",
   "metadata": {},
   "outputs": [
    {
     "data": {
      "image/png": "[encoded data removed]",
      "text/plain": [
       "<Figure size 432x288 with 1 Axes>"
      ]
     },
     "metadata": {
      "needs_background": "light"
     },
     "output_type": "display_data"
    },
    {
     "data": {
      "image/png": "[encoded data removed]",
      "text/plain": [
       "<Figure size 432x288 with 1 Axes>"
      ]
     },
     "metadata": {
      "needs_background": "light"
     },
     "output_type": "display_data"
    }
   ],
   "source": [
    "def plot_graphs(history, string):\n",
    "    plt.plot(history.history[string])\n",
    "    plt.plot(history.history['val_'+string], linewidth = 2, alpha = 0.75)\n",
    "    plt.xlabel(\"Epochs\")\n",
    "    plt.ylabel(string)\n",
    "    plt.legend([string, 'val_'+string])\n",
    "    plt.show()\n",
    "\n",
    "plot_graphs(history, \"accuracy\")\n",
    "plot_graphs(history, \"loss\")"
   ]
  },
  {
   "cell_type": "code",
   "execution_count": null,
   "id": "e1a1657d",
   "metadata": {},
   "outputs": [],
   "source": []
  }
 ],
 "metadata": {
  "kernelspec": {
   "display_name": "Python [conda env:tf2.5.0] *",
   "language": "python",
   "name": "conda-env-tf2.5.0-py"
  },
  "language_info": {
   "codemirror_mode": {
    "name": "ipython",
    "version": 3
   },
   "file_extension": ".py",
   "mimetype": "text/x-python",
   "name": "python",
   "nbconvert_exporter": "python",
   "pygments_lexer": "ipython3",
   "version": "3.8.0"
  }
 },
 "nbformat": 4,
 "nbformat_minor": 5
}

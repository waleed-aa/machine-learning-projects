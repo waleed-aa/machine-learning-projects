{
 "cells": [
  {
   "cell_type": "markdown",
   "metadata": {},
   "source": [
    "# 1. Libraries"
   ]
  },
  {
   "cell_type": "code",
   "execution_count": 1,
   "metadata": {},
   "outputs": [],
   "source": [
    "# Importing Libraries\n",
    "import pandas as pd #For Data Manipulation and Analysis\n",
    "import numpy as np  # For Working with Arrays and Linear Algebra\n",
    "from surprise import Reader\n",
    "from surprise import SVD\n",
    "from surprise import Dataset\n",
    "from surprise import NMF\n",
    "from surprise import reader\n",
    "from surprise.model_selection import cross_validate as cv\n",
    "from surprise.model_selection import KFold\n",
    "from surprise.model_selection import GridSearchCV\n",
    "from surprise.model_selection import cross_validate \n",
    "from sklearn.model_selection import train_test_split \n",
    "from sklearn.metrics import mean_squared_error\n",
    "from surprise.model_selection import PredefinedKFold\n",
    "\n",
    "\n",
    "# Spark Libraries\n",
    "from pyspark.sql import SparkSession # Import an SQL spark-session so that we can use dataframes\n",
    "from pyspark.sql import SQLContext # Initiate the SQL spark session\n",
    "from pyspark.sql.functions import udf, col, when # For user defined columns\n",
    "from pyspark.ml.evaluation import RegressionEvaluator # To evaluate the Performance of the ALS model (RMSE & MAE)\n",
    "from pyspark.ml.recommendation import ALS # The Alternating Least Squares Model\n",
    "from pyspark.ml.tuning import TrainValidationSplit, ParamGridBuilder, CrossValidator #  and hyperparametric tuning\n",
    "from IPython.display import Image\n",
    "from IPython.display import display\n",
    "from pyspark.ml.recommendation import ALS \n",
    "from surprise import NormalPredictor\n",
    "from pyspark.sql.types import StructType, StructField, IntegerType, FloatType\n"
   ]
  },
  {
   "cell_type": "markdown",
   "metadata": {},
   "source": [
    "# Build Spark Session"
   ]
  },
  {
   "cell_type": "code",
   "execution_count": 2,
   "metadata": {},
   "outputs": [],
   "source": [
    "# Initiate spark session\n",
    "spark = SparkSession.builder.appName('recommender').getOrCreate()"
   ]
  },
  {
   "cell_type": "code",
   "execution_count": 7,
   "metadata": {},
   "outputs": [
    {
     "data": {
      "text/html": [
       "\n",
       "            <div>\n",
       "                <p><b>SparkSession - in-memory</b></p>\n",
       "                \n",
       "        <div>\n",
       "            <p><b>SparkContext</b></p>\n",
       "\n",
       "            <p><a href=\"http://MSI:4040\">Spark UI</a></p>\n",
       "\n",
       "            <dl>\n",
       "              <dt>Version</dt>\n",
       "                <dd><code>v2.4.0</code></dd>\n",
       "              <dt>Master</dt>\n",
       "                <dd><code>local[*]</code></dd>\n",
       "              <dt>AppName</dt>\n",
       "                <dd><code>recommender</code></dd>\n",
       "            </dl>\n",
       "        </div>\n",
       "        \n",
       "            </div>\n",
       "        "
      ],
      "text/plain": [
       "<pyspark.sql.session.SparkSession at 0x240d58d6548>"
      ]
     },
     "execution_count": 7,
     "metadata": {},
     "output_type": "execute_result"
    }
   ],
   "source": [
    "spark"
   ]
  },
  {
   "cell_type": "markdown",
   "metadata": {},
   "source": [
    "# Import Data"
   ]
  },
  {
   "cell_type": "code",
   "execution_count": 3,
   "metadata": {},
   "outputs": [],
   "source": [
    "import os\n",
    "os.chdir(r'C:\\Users\\WALEED AMJAD ALI\\Data_Analytics\\Recommender Systems\\ml-1m')"
   ]
  },
  {
   "cell_type": "code",
   "execution_count": 12,
   "metadata": {},
   "outputs": [],
   "source": [
    "# Import ratings dataset\n",
    "ratings = spark.read.csv(r'C:\\Users\\WALEED AMJAD ALI\\Data_Analytics\\Recommender Systems\\ml-1m\\ratings.csv', header=True,inferSchema=True)\n",
    "\n",
    "# Import users dataset\n",
    "users = spark.read.csv(r'C:\\Users\\WALEED AMJAD ALI\\Data_Analytics\\Recommender Systems\\ml-1m\\users.csv', header=True,inferSchema=True)\n",
    "\n",
    "# Import movies dataset\n",
    "movies = spark.read.csv(r'C:\\Users\\WALEED AMJAD ALI\\Data_Analytics\\Recommender Systems\\ml-1m\\movies.csv', header=True,inferSchema=True)"
   ]
  },
  {
   "cell_type": "markdown",
   "metadata": {},
   "source": [
    "# EDA"
   ]
  },
  {
   "cell_type": "code",
   "execution_count": 19,
   "metadata": {},
   "outputs": [
    {
     "name": "stdout",
     "output_type": "stream",
     "text": [
      "root\n",
      " |-- user_id: integer (nullable = true)\n",
      " |-- movie_id: integer (nullable = true)\n",
      " |-- rating: integer (nullable = true)\n",
      " |-- timestamp: integer (nullable = true)\n",
      "\n",
      "root\n",
      " |-- user_id: integer (nullable = true)\n",
      " |-- gender: string (nullable = true)\n",
      " |-- zipcode: integer (nullable = true)\n",
      " |-- age_desc: integer (nullable = true)\n",
      " |-- occ_desc: string (nullable = true)\n",
      "\n",
      "root\n",
      " |-- movie_id: integer (nullable = true)\n",
      " |-- title: string (nullable = true)\n",
      " |-- genres: string (nullable = true)\n",
      "\n"
     ]
    },
    {
     "data": {
      "text/plain": [
       "(None, None, None)"
      ]
     },
     "execution_count": 19,
     "metadata": {},
     "output_type": "execute_result"
    }
   ],
   "source": [
    "# Examine variables and Datatypes\n",
    "ratings.printSchema(), users.printSchema(), movies.printSchema()"
   ]
  },
  {
   "cell_type": "code",
   "execution_count": 23,
   "metadata": {},
   "outputs": [
    {
     "name": "stdout",
     "output_type": "stream",
     "text": [
      "+-------+--------+------+\n",
      "|user_id|movie_id|rating|\n",
      "+-------+--------+------+\n",
      "|      1|    1193|     5|\n",
      "|      1|     661|     3|\n",
      "|      1|     914|     3|\n",
      "|      1|    3408|     4|\n",
      "|      1|    2355|     5|\n",
      "|      1|    1197|     3|\n",
      "|      1|    1287|     5|\n",
      "|      1|    2804|     5|\n",
      "|      1|     594|     4|\n",
      "|      1|     919|     4|\n",
      "|      1|     595|     5|\n",
      "|      1|     938|     4|\n",
      "|      1|    2398|     4|\n",
      "|      1|    2918|     4|\n",
      "|      1|    1035|     5|\n",
      "|      1|    2791|     4|\n",
      "|      1|    2687|     3|\n",
      "|      1|    2018|     4|\n",
      "|      1|    3105|     5|\n",
      "|      1|    2797|     4|\n",
      "+-------+--------+------+\n",
      "only showing top 20 rows\n",
      "\n"
     ]
    }
   ],
   "source": [
    "ratings.show()"
   ]
  },
  {
   "cell_type": "markdown",
   "metadata": {},
   "source": [
    "# Data Preprocessing"
   ]
  },
  {
   "cell_type": "code",
   "execution_count": 22,
   "metadata": {},
   "outputs": [],
   "source": [
    "# Drop the timestamp column as its currently irrelevant\n",
    "ratings = ratings.drop('Timestamp')"
   ]
  },
  {
   "cell_type": "code",
   "execution_count": 25,
   "metadata": {},
   "outputs": [],
   "source": [
    "# Splitting the dataset into training and testing at a ratio of 0.8 to 0.2\n",
    "training, testing = ratings.randomSplit([0.8, 0.2])"
   ]
  },
  {
   "cell_type": "markdown",
   "metadata": {},
   "source": [
    "# Predictive Modelling"
   ]
  },
  {
   "cell_type": "code",
   "execution_count": 26,
   "metadata": {},
   "outputs": [],
   "source": [
    "# Instantiate the Alternating Least Squares Model\n",
    "als = ALS(maxIter = 10,\n",
    "         regParam = 0.1,\n",
    "         rank = 4,\n",
    "         userCol = \"user_id\",\n",
    "         itemCol =\"movie_id\",\n",
    "         ratingCol = \"rating\",\n",
    "         coldStartStrategy=\"drop\")"
   ]
  },
  {
   "cell_type": "code",
   "execution_count": 27,
   "metadata": {},
   "outputs": [],
   "source": [
    "# Training the model\n",
    "model = als.fit(training)"
   ]
  },
  {
   "cell_type": "code",
   "execution_count": 28,
   "metadata": {},
   "outputs": [],
   "source": [
    "# Testing the model\n",
    "predictions = model.transform(testing)"
   ]
  },
  {
   "cell_type": "markdown",
   "metadata": {},
   "source": [
    "# Evaluation"
   ]
  },
  {
   "cell_type": "code",
   "execution_count": 29,
   "metadata": {},
   "outputs": [],
   "source": [
    "# Evaluation metrics\n",
    "evaluator = RegressionEvaluator(metricName = \"rmse\", labelCol = \"rating\", predictionCol = \"prediction\")"
   ]
  },
  {
   "cell_type": "code",
   "execution_count": 30,
   "metadata": {},
   "outputs": [],
   "source": [
    "# RMSE is the metric used to for model evaluation\n",
    "rmse = evaluator.evaluate(predictions)"
   ]
  },
  {
   "cell_type": "code",
   "execution_count": 54,
   "metadata": {},
   "outputs": [
    {
     "name": "stdout",
     "output_type": "stream",
     "text": [
      "Root Mean Square Error = 0.8755804278146311\n"
     ]
    }
   ],
   "source": [
    "# Baseline Alternating Least Squares RMSE \n",
    "print(f\"Root Mean Square Error = {rmse}\")"
   ]
  },
  {
   "cell_type": "code",
   "execution_count": 32,
   "metadata": {},
   "outputs": [],
   "source": [
    "evaluator2 = RegressionEvaluator(metricName = \"r2\", labelCol = \"rating\", predictionCol = \"prediction\")"
   ]
  },
  {
   "cell_type": "code",
   "execution_count": 56,
   "metadata": {},
   "outputs": [],
   "source": [
    "r2 = evaluator.evaluate(predictions)"
   ]
  },
  {
   "cell_type": "code",
   "execution_count": 57,
   "metadata": {},
   "outputs": [
    {
     "name": "stdout",
     "output_type": "stream",
     "text": [
      "0.8755804278146311\n"
     ]
    }
   ],
   "source": [
    "print(r2)"
   ]
  },
  {
   "cell_type": "markdown",
   "metadata": {},
   "source": [
    "# Hyperparametric Tuning"
   ]
  },
  {
   "cell_type": "code",
   "execution_count": 55,
   "metadata": {},
   "outputs": [
    {
     "ename": "NameError",
     "evalue": "name 'iterations' is not defined",
     "output_type": "error",
     "traceback": [
      "\u001b[1;31m---------------------------------------------------------------------------\u001b[0m",
      "\u001b[1;31mNameError\u001b[0m                                 Traceback (most recent call last)",
      "\u001b[1;32m<ipython-input-55-1d8bf502a956>\u001b[0m in \u001b[0;36m<module>\u001b[1;34m\u001b[0m\n\u001b[0;32m      1\u001b[0m \u001b[1;31m# Instantiate gridsearch for hyperparametric tuning\u001b[0m\u001b[1;33m\u001b[0m\u001b[1;33m\u001b[0m\u001b[1;33m\u001b[0m\u001b[0m\n\u001b[1;32m----> 2\u001b[1;33m \u001b[0mals\u001b[0m \u001b[1;33m=\u001b[0m \u001b[0mALS\u001b[0m\u001b[1;33m(\u001b[0m\u001b[0mmaxIter\u001b[0m \u001b[1;33m=\u001b[0m \u001b[0miterations\u001b[0m\u001b[1;33m,\u001b[0m \u001b[0mregParam\u001b[0m \u001b[1;33m=\u001b[0m \u001b[0mregularization_parameter\u001b[0m\u001b[1;33m,\u001b[0m \u001b[0muserCol\u001b[0m \u001b[1;33m=\u001b[0m \u001b[1;34m\"user_id\"\u001b[0m\u001b[1;33m,\u001b[0m\u001b[0mitemCol\u001b[0m \u001b[1;33m=\u001b[0m\u001b[1;34m\"movie_id\"\u001b[0m\u001b[1;33m,\u001b[0m\u001b[0mratingCol\u001b[0m \u001b[1;33m=\u001b[0m \u001b[1;34m\"rating\"\u001b[0m\u001b[1;33m,\u001b[0m \u001b[0mcoldStartStrategy\u001b[0m\u001b[1;33m=\u001b[0m\u001b[1;34m\"drop\"\u001b[0m\u001b[1;33m)\u001b[0m\u001b[1;33m\u001b[0m\u001b[1;33m\u001b[0m\u001b[0m\n\u001b[0m\u001b[0;32m      3\u001b[0m \u001b[0mparamGrid\u001b[0m \u001b[1;33m=\u001b[0m \u001b[0mParamGridBuilder\u001b[0m\u001b[1;33m(\u001b[0m\u001b[1;33m)\u001b[0m\u001b[0;31m \u001b[0m\u001b[0;31m\\\u001b[0m\u001b[1;33m\u001b[0m\u001b[1;33m\u001b[0m\u001b[0m\n\u001b[0;32m      4\u001b[0m \u001b[1;33m.\u001b[0m\u001b[0maddGrid\u001b[0m\u001b[1;33m(\u001b[0m\u001b[0mals\u001b[0m\u001b[1;33m.\u001b[0m\u001b[0mregParam\u001b[0m\u001b[1;33m,\u001b[0m \u001b[1;33m[\u001b[0m \u001b[1;36m0.1\u001b[0m\u001b[1;33m,\u001b[0m \u001b[1;36m0.2\u001b[0m\u001b[1;33m,\u001b[0m \u001b[1;36m0.7\u001b[0m \u001b[1;33m]\u001b[0m \u001b[1;33m)\u001b[0m\u001b[0;31m \u001b[0m\u001b[0;31m\\\u001b[0m\u001b[1;33m\u001b[0m\u001b[1;33m\u001b[0m\u001b[0m\n\u001b[0;32m      5\u001b[0m \u001b[1;33m.\u001b[0m\u001b[0maddGrid\u001b[0m\u001b[1;33m(\u001b[0m\u001b[0mals\u001b[0m\u001b[1;33m.\u001b[0m\u001b[0mmaxIter\u001b[0m\u001b[1;33m,\u001b[0m \u001b[1;33m[\u001b[0m\u001b[1;36m15\u001b[0m\u001b[1;33m,\u001b[0m \u001b[1;36m17\u001b[0m\u001b[1;33m,\u001b[0m \u001b[1;36m19\u001b[0m\u001b[1;33m]\u001b[0m\u001b[1;33m)\u001b[0m\u001b[0;31m\\\u001b[0m\u001b[1;33m\u001b[0m\u001b[1;33m\u001b[0m\u001b[0m\n",
      "\u001b[1;31mNameError\u001b[0m: name 'iterations' is not defined"
     ]
    }
   ],
   "source": [
    "# Instantiate gridsearch for hyperparametric tuning\n",
    "\n",
    "# Hyperparameters\n",
    "grid_search = ParamGridBuilder() \\ \n",
    ".addGrid(als.regParam, [ 0.1, 0.2, 0.7 ] ) \\\n",
    ".addGrid(als.maxIter, [15, 17, 19])\\\n",
    ".addGrid(als.rank, range(2,8)) \\\n",
    ".build()\n",
    "\n",
    "\n",
    "# Evaluation Metric\n",
    "metric = RegressionEvaluator(metricName = (\"rmse\"), labelCol = \"rating\", predictionCol = \"prediction\")\n",
    "\n",
    "# GridSeach CV\n",
    "cv = CrossValidator(estimator = als,\n",
    "                                  estimatorParamMaps = grid,\n",
    "                                  evaluator = metric,\n",
    "                                  numFolds=2)\n",
    "cv_model = crossval.fit(training)\n",
    "print(\"Mean absolute Error = \" + str(rmse))"
   ]
  },
  {
   "cell_type": "code",
   "execution_count": 31,
   "metadata": {},
   "outputs": [
    {
     "data": {
      "text/plain": [
       "DataFrame[user_id: int, movie_id: int, rating: int, prediction: float]"
      ]
     },
     "execution_count": 31,
     "metadata": {},
     "output_type": "execute_result"
    }
   ],
   "source": [
    "predictions"
   ]
  },
  {
   "cell_type": "code",
   "execution_count": 35,
   "metadata": {},
   "outputs": [],
   "source": [
    "predictions = predictions.filter(col('prediction') != np.nan)"
   ]
  },
  {
   "cell_type": "code",
   "execution_count": 36,
   "metadata": {},
   "outputs": [
    {
     "name": "stdout",
     "output_type": "stream",
     "text": [
      "Root Mean Square Error = 0.8755804278146311\n"
     ]
    }
   ],
   "source": [
    "print (\"Root Mean Square Error = \" + str(rmse))"
   ]
  },
  {
   "cell_type": "code",
   "execution_count": 37,
   "metadata": {},
   "outputs": [
    {
     "name": "stdout",
     "output_type": "stream",
     "text": [
      "+-------+--------+------+----------+\n",
      "|user_id|movie_id|rating|prediction|\n",
      "+-------+--------+------+----------+\n",
      "|   5333|     148|     3| 1.9733444|\n",
      "|   3184|     148|     4| 3.1712599|\n",
      "|   1242|     148|     3| 2.8761709|\n",
      "|   3829|     148|     2| 2.6082404|\n",
      "|   4169|     463|     2| 2.6110835|\n",
      "|   5047|     463|     3| 2.1900086|\n",
      "|   1069|     463|     2| 1.1038731|\n",
      "|    202|     463|     3|   2.62006|\n",
      "|   5511|     463|     2|  3.248498|\n",
      "|    524|     463|     3|  2.302901|\n",
      "+-------+--------+------+----------+\n",
      "only showing top 10 rows\n",
      "\n"
     ]
    }
   ],
   "source": [
    "# Now that the best model is retrieved, I will pull out 10 recommendations to compare actual and predicted values.\n",
    "predictions.show(n = 10)"
   ]
  },
  {
   "cell_type": "code",
   "execution_count": 39,
   "metadata": {},
   "outputs": [
    {
     "name": "stdout",
     "output_type": "stream",
     "text": [
      "+-------+--------------------+--------------------+----------+\n",
      "|user_id|               title|              genres|prediction|\n",
      "+-------+--------------------+--------------------+----------+\n",
      "|   5333|Awfully Big Adven...|               Drama| 1.9733444|\n",
      "|   3184|Awfully Big Adven...|               Drama| 3.1712599|\n",
      "|   1242|Awfully Big Adven...|               Drama| 2.8761709|\n",
      "|   3829|Awfully Big Adven...|               Drama| 2.6082404|\n",
      "|   4169|Guilty as Sin (1993)|Crime|Drama|Thriller| 2.6110835|\n",
      "|   5047|Guilty as Sin (1993)|Crime|Drama|Thriller| 2.1900086|\n",
      "|   1069|Guilty as Sin (1993)|Crime|Drama|Thriller| 1.1038731|\n",
      "|    202|Guilty as Sin (1993)|Crime|Drama|Thriller|   2.62006|\n",
      "|   5511|Guilty as Sin (1993)|Crime|Drama|Thriller|  3.248498|\n",
      "|    524|Guilty as Sin (1993)|Crime|Drama|Thriller|  2.302901|\n",
      "+-------+--------------------+--------------------+----------+\n",
      "only showing top 10 rows\n",
      "\n"
     ]
    }
   ],
   "source": [
    "# Lets map these results back to their respective movie genres and title\n",
    "predictions.join(movies, \"movie_id\").select(\"user_id\",\"title\",\"genres\",\"prediction\").show(10)"
   ]
  },
  {
   "cell_type": "code",
   "execution_count": 40,
   "metadata": {},
   "outputs": [
    {
     "name": "stdout",
     "output_type": "stream",
     "text": [
      "+--------+-------+------+----------+--------------------+--------------------+\n",
      "|movie_id|user_id|rating|prediction|               title|              genres|\n",
      "+--------+-------+------+----------+--------------------+--------------------+\n",
      "|    2572|   1756|     4| 3.2375116|10 Things I Hate ...|      Comedy|Romance|\n",
      "|    3071|   1756|     5|  3.511016|Stand and Deliver...|               Drama|\n",
      "|    3752|   1756|     1| 1.7478164|Me, Myself and Ir...|              Comedy|\n",
      "|    2763|   1756|     4|  3.510744|Thomas Crown Affa...|     Action|Thriller|\n",
      "|    3534|   1756|     3| 2.9733672|      28 Days (2000)|              Comedy|\n",
      "|    2394|   1756|     4|  3.696369|Prince of Egypt, ...|   Animation|Musical|\n",
      "|    2541|   1756|     1| 2.7659678|Cruel Intentions ...|               Drama|\n",
      "|     260|   1756|     4| 4.1978264|Star Wars: Episod...|Action|Adventure|...|\n",
      "|    3623|   1756|     5| 3.0280197|Mission: Impossib...|     Action|Thriller|\n",
      "|    3160|   1756|     1| 2.2307444|     Magnolia (1999)|               Drama|\n",
      "+--------+-------+------+----------+--------------------+--------------------+\n",
      "only showing top 10 rows\n",
      "\n"
     ]
    }
   ],
   "source": [
    "# Lets randomly choose a user to see how the actual movie recommendations for that user.\n",
    "random_user_predictions = predictions.filter(col(\"user_id\")== 1756).join(movies, \"movie_id\")\n",
    "random_user_predictions.show(10)"
   ]
  },
  {
   "cell_type": "code",
   "execution_count": 40,
   "metadata": {},
   "outputs": [
    {
     "name": "stdout",
     "output_type": "stream",
     "text": [
      "+--------+-------+------+----------+--------------------+--------------------+\n",
      "|movie_id|user_id|rating|prediction|               title|              genres|\n",
      "+--------+-------+------+----------+--------------------+--------------------+\n",
      "|      34|   2000|     4| 4.0843754|         Babe (1995)|Children's|Comedy...|\n",
      "|    2355|   2000|     4| 3.8953161|Bug's Life, A (1998)|Animation|Childre...|\n",
      "|    2791|   2000|     3|  3.800591|    Airplane! (1980)|              Comedy|\n",
      "|       1|   2000|     4| 4.2299886|    Toy Story (1995)|Animation|Childre...|\n",
      "|    2391|   2000|     4|  3.727282|Simple Plan, A (1...|      Crime|Thriller|\n",
      "|    2694|   2000|     3| 2.6532254|    Big Daddy (1999)|              Comedy|\n",
      "|    2761|   2000|     4| 4.0472383|Iron Giant, The (...|Animation|Children's|\n",
      "|    2987|   2000|     3| 3.5692427|Who Framed Roger ...|Adventure|Animati...|\n",
      "|    3717|   2000|     2| 2.5891695|Gone in 60 Second...|        Action|Crime|\n",
      "|    3745|   2000|     3| 3.2322736|   Titan A.E. (2000)|Adventure|Animati...|\n",
      "+--------+-------+------+----------+--------------------+--------------------+\n",
      "only showing top 10 rows\n",
      "\n"
     ]
    }
   ],
   "source": [
    "# Lets randomly choose a user to see how the actual movie recommendations for that user.\n",
    "random_user_predictions = predictions.filter(col(\"user_id\")== 2000).join(movies_df, \"movie_id\")\n",
    "random_user_predictions.show(10)"
   ]
  },
  {
   "cell_type": "code",
   "execution_count": 41,
   "metadata": {},
   "outputs": [],
   "source": [
    "# Produce top 5 recommendations for every user\n",
    "userRecommend = model.recommendForAllUsers(5)\n",
    "\n",
    "# Produce top 5 user recommendations for each movie\n",
    "movieRecommends = model.recommendForAllItems(5)"
   ]
  },
  {
   "cell_type": "code",
   "execution_count": 47,
   "metadata": {},
   "outputs": [
    {
     "name": "stdout",
     "output_type": "stream",
     "text": [
      "+-------+-----------------------------+\n",
      "|user_id|movie_id                     |\n",
      "+-------+-----------------------------+\n",
      "|1580   |[557, 2309, 989, 787, 3338]  |\n",
      "|4900   |[557, 2197, 572, 3233, 3140] |\n",
      "|5300   |[557, 2309, 787, 989, 2503]  |\n",
      "|471    |[557, 2309, 3245, 787, 1664] |\n",
      "|1591   |[557, 572, 989, 787, 1851]   |\n",
      "|4101   |[776, 557, 2127, 887, 572]   |\n",
      "|1342   |[557, 572, 1851, 989, 3172]  |\n",
      "|2122   |[557, 572, 1851, 3245, 1664] |\n",
      "|2142   |[557, 572, 1851, 1664, 3172] |\n",
      "|463    |[557, 2309, 2342, 1664, 3245]|\n",
      "+-------+-----------------------------+\n",
      "only showing top 10 rows\n",
      "\n"
     ]
    }
   ],
   "source": [
    "x = userRecommend.select(\"user_id\", \"recommendations.movie_id\").show(10, False)"
   ]
  },
  {
   "cell_type": "code",
   "execution_count": 48,
   "metadata": {},
   "outputs": [
    {
     "ename": "AttributeError",
     "evalue": "'NoneType' object has no attribute 'show'",
     "output_type": "error",
     "traceback": [
      "\u001b[1;31m---------------------------------------------------------------------------\u001b[0m",
      "\u001b[1;31mAttributeError\u001b[0m                            Traceback (most recent call last)",
      "\u001b[1;32m<ipython-input-48-57b1d3cd425c>\u001b[0m in \u001b[0;36m<module>\u001b[1;34m\u001b[0m\n\u001b[1;32m----> 1\u001b[1;33m \u001b[0mx\u001b[0m\u001b[1;33m.\u001b[0m\u001b[0mshow\u001b[0m\u001b[1;33m(\u001b[0m\u001b[0mn\u001b[0m\u001b[1;33m=\u001b[0m\u001b[1;36m20\u001b[0m\u001b[1;33m,\u001b[0m \u001b[0mtruncate\u001b[0m\u001b[1;33m=\u001b[0m\u001b[1;36m50\u001b[0m\u001b[1;33m,\u001b[0m \u001b[0mvertical\u001b[0m\u001b[1;33m=\u001b[0m\u001b[1;32mFalse\u001b[0m\u001b[1;33m)\u001b[0m\u001b[1;33m\u001b[0m\u001b[1;33m\u001b[0m\u001b[0m\n\u001b[0m",
      "\u001b[1;31mAttributeError\u001b[0m: 'NoneType' object has no attribute 'show'"
     ]
    }
   ],
   "source": [
    "x.show(n=20, truncate=50, vertical=False)"
   ]
  },
  {
   "cell_type": "code",
   "execution_count": 44,
   "metadata": {},
   "outputs": [
    {
     "name": "stdout",
     "output_type": "stream",
     "text": [
      "+-------+\n",
      "|user_id|\n",
      "+-------+\n",
      "|    148|\n",
      "|    463|\n",
      "|    471|\n",
      "|    496|\n",
      "|    833|\n",
      "+-------+\n",
      "\n"
     ]
    }
   ],
   "source": [
    "users = ratings.select(\"user_id\").distinct().limit(5);\n",
    "users.show()"
   ]
  },
  {
   "cell_type": "code",
   "execution_count": 50,
   "metadata": {},
   "outputs": [],
   "source": [
    "userSubsetRecs = model.recommendForUserSubset(users,10)"
   ]
  },
  {
   "cell_type": "code",
   "execution_count": 52,
   "metadata": {},
   "outputs": [
    {
     "name": "stdout",
     "output_type": "stream",
     "text": [
      "+-------+--------------------------------------------------+\n",
      "|user_id|                                   recommendations|\n",
      "+-------+--------------------------------------------------+\n",
      "|    471|[[557, 5.465485], [2309, 4.926101], [3245, 4.66...|\n",
      "|    463|[[557, 4.790712], [2309, 4.449182], [2342, 4.31...|\n",
      "|    833|[[572, 5.86089], [557, 5.3887033], [2197, 5.317...|\n",
      "|    496|[[557, 6.0280986], [572, 5.5311384], [989, 5.34...|\n",
      "|    148|[[572, 5.6659465], [557, 5.5376205], [3314, 4.9...|\n",
      "+-------+--------------------------------------------------+\n",
      "\n"
     ]
    }
   ],
   "source": [
    "userSubsetRecs.show(10, 50)"
   ]
  },
  {
   "cell_type": "code",
   "execution_count": 53,
   "metadata": {},
   "outputs": [
    {
     "name": "stdout",
     "output_type": "stream",
     "text": [
      "+-------+----------------------------------------------------------+\n",
      "|user_id|movie_id                                                  |\n",
      "+-------+----------------------------------------------------------+\n",
      "|471    |[557, 2309, 3245, 787, 1664, 3542, 1901, 2019, 2503, 2905]|\n",
      "|463    |[557, 2309, 2342, 1664, 3245, 2760, 2905, 670, 2019, 787] |\n",
      "|833    |[572, 557, 2197, 2562, 985, 2776, 1780, 3314, 3233, 404]  |\n",
      "|496    |[557, 572, 989, 2127, 776, 3338, 3172, 887, 318, 2571]    |\n",
      "|148    |[572, 557, 3314, 2127, 1851, 3607, 404, 318, 3147, 2762]  |\n",
      "+-------+----------------------------------------------------------+\n",
      "\n"
     ]
    }
   ],
   "source": [
    "userSubsetRecs.select(\"user_id\", \"recommendations.movie_id\").show(10, False)"
   ]
  }
 ],
 "metadata": {
  "kernelspec": {
   "display_name": "Python 3",
   "language": "python",
   "name": "python3"
  },
  "language_info": {
   "codemirror_mode": {
    "name": "ipython",
    "version": 3
   },
   "file_extension": ".py",
   "mimetype": "text/x-python",
   "name": "python",
   "nbconvert_exporter": "python",
   "pygments_lexer": "ipython3",
   "version": "3.7.11"
  }
 },
 "nbformat": 4,
 "nbformat_minor": 4
}

{
 "cells": [
  {
   "cell_type": "markdown",
   "id": "f9ca634f",
   "metadata": {},
   "source": [
    "# 1. Import Libraries & Data"
   ]
  },
  {
   "cell_type": "code",
   "execution_count": 1,
   "id": "2dc7fedf",
   "metadata": {},
   "outputs": [],
   "source": [
    "import pandas as pd\n",
    "import numpy as np\n",
    "import matplotlib.pyplot as plt\n",
    "import seaborn as sns\n",
    "import wordcloud\n",
    "from nltk.stem import PorterStemmer, WordNetLemmatizer\n",
    "from nltk.corpus import stopwords\n",
    "from gensim.models import Word2Vec\n",
    "import re\n",
    "import random\n",
    "import nltk\n",
    "import tensorflow as tf\n",
    "from sklearn.model_selection import train_test_split\n",
    "from tensorflow.keras import layers\n",
    "from tensorflow.keras.models import Sequential\n",
    "from tensorflow.keras.preprocessing.text import one_hot\n",
    "from tensorflow.keras.layers import Embedding\n",
    "from tensorflow.keras.preprocessing.sequence import pad_sequences\n",
    "from tensorflow.keras.preprocessing.text import Tokenizer\n",
    "from tensorflow.keras.layers import LSTM\n",
    "from tensorflow.keras.layers import Dense\n",
    "from sklearn.metrics import confusion_matrix, classification_report, accuracy_score"
   ]
  },
  {
   "cell_type": "code",
   "execution_count": 2,
   "id": "320cb94f",
   "metadata": {
    "scrolled": true
   },
   "outputs": [
    {
     "data": {
      "text/plain": [
       "(2518, 2)"
      ]
     },
     "execution_count": 2,
     "metadata": {},
     "output_type": "execute_result"
    }
   ],
   "source": [
    "# Read Data\n",
    "df = pd.read_csv('IMDB Dataset.csv', header=0, skiprows=lambda i: i>0 and random.random() > 0.05)\n",
    "df.shape"
   ]
  },
  {
   "cell_type": "markdown",
   "id": "2d94b894",
   "metadata": {},
   "source": [
    "# 2. Exploratory Data Analysis"
   ]
  },
  {
   "cell_type": "code",
   "execution_count": 3,
   "id": "6421db34",
   "metadata": {},
   "outputs": [
    {
     "data": {
      "text/html": [
       "<div>\n",
       "<style scoped>\n",
       "    .dataframe tbody tr th:only-of-type {\n",
       "        vertical-align: middle;\n",
       "    }\n",
       "\n",
       "    .dataframe tbody tr th {\n",
       "        vertical-align: top;\n",
       "    }\n",
       "\n",
       "    .dataframe thead th {\n",
       "        text-align: right;\n",
       "    }\n",
       "</style>\n",
       "<table border=\"1\" class=\"dataframe\">\n",
       "  <thead>\n",
       "    <tr style=\"text-align: right;\">\n",
       "      <th></th>\n",
       "      <th>review</th>\n",
       "      <th>sentiment</th>\n",
       "    </tr>\n",
       "  </thead>\n",
       "  <tbody>\n",
       "    <tr>\n",
       "      <th>0</th>\n",
       "      <td>If you like original gut wrenching laughter yo...</td>\n",
       "      <td>positive</td>\n",
       "    </tr>\n",
       "    <tr>\n",
       "      <th>1</th>\n",
       "      <td>It had all the clichés of movies of this type ...</td>\n",
       "      <td>negative</td>\n",
       "    </tr>\n",
       "    <tr>\n",
       "      <th>2</th>\n",
       "      <td>The 33 percent of the nations nitwits that sti...</td>\n",
       "      <td>negative</td>\n",
       "    </tr>\n",
       "    <tr>\n",
       "      <th>3</th>\n",
       "      <td>Nicholas Walker is Paul, the local town Revera...</td>\n",
       "      <td>negative</td>\n",
       "    </tr>\n",
       "    <tr>\n",
       "      <th>4</th>\n",
       "      <td>This tale based on two Edgar Allen Poe pieces ...</td>\n",
       "      <td>positive</td>\n",
       "    </tr>\n",
       "  </tbody>\n",
       "</table>\n",
       "</div>"
      ],
      "text/plain": [
       "                                              review sentiment\n",
       "0  If you like original gut wrenching laughter yo...  positive\n",
       "1  It had all the clichés of movies of this type ...  negative\n",
       "2  The 33 percent of the nations nitwits that sti...  negative\n",
       "3  Nicholas Walker is Paul, the local town Revera...  negative\n",
       "4  This tale based on two Edgar Allen Poe pieces ...  positive"
      ]
     },
     "execution_count": 3,
     "metadata": {},
     "output_type": "execute_result"
    }
   ],
   "source": [
    "# First 5 entries\n",
    "df.head()"
   ]
  },
  {
   "cell_type": "code",
   "execution_count": 4,
   "id": "e6e2142d",
   "metadata": {},
   "outputs": [
    {
     "name": "stdout",
     "output_type": "stream",
     "text": [
      "<class 'pandas.core.frame.DataFrame'>\n",
      "RangeIndex: 2518 entries, 0 to 2517\n",
      "Data columns (total 2 columns):\n",
      " #   Column     Non-Null Count  Dtype \n",
      "---  ------     --------------  ----- \n",
      " 0   review     2518 non-null   object\n",
      " 1   sentiment  2518 non-null   object\n",
      "dtypes: object(2)\n",
      "memory usage: 39.5+ KB\n"
     ]
    }
   ],
   "source": [
    "# Data Types\n",
    "df.info()"
   ]
  },
  {
   "cell_type": "code",
   "execution_count": 5,
   "id": "4f022935",
   "metadata": {},
   "outputs": [
    {
     "data": {
      "image/png": "[encoded data removed]",
      "text/plain": [
       "<Figure size 432x288 with 1 Axes>"
      ]
     },
     "metadata": {},
     "output_type": "display_data"
    },
    {
     "name": "stdout",
     "output_type": "stream",
     "text": [
      "Percentage of positive reviews:  49.7 %\n",
      "Percentage of negative reviews: 50.3 %\n"
     ]
    }
   ],
   "source": [
    "# Lets create a barchart of the response variable\n",
    "sns.set_style('ticks')\n",
    "sns.countplot(data=df, x=\"sentiment\", order=[\"positive\", \"negative\"], palette='Set1')\n",
    "plt.xlabel('Ham vs Spam')\n",
    "plt.ylabel('Frequency')\n",
    "plt.ylim([0, 2000])\n",
    "plt.show()\n",
    "\n",
    "\n",
    "# Proportion of positive vs negative reviews\n",
    "x = df['sentiment'].value_counts(normalize=True)\n",
    "print(\"Percentage of positive reviews: \", str(x['positive'].round(3) * 100), '%')\n",
    "print(\"Percentage of negative reviews:\", str(x['negative'].round(3) * 100), '%')"
   ]
  },
  {
   "cell_type": "markdown",
   "id": "d04fc88d",
   "metadata": {},
   "source": [
    "# 3. Data Preprocessing"
   ]
  },
  {
   "cell_type": "markdown",
   "id": "27807443",
   "metadata": {},
   "source": [
    "I will perform the following preprocessing techniques:\n",
    "\n",
    "- Replace everything that is not a letter with a blank space\n",
    "- Replace html tags with a space\n",
    "- Lowercase all letters\n",
    "- Store each word seperately in a list\n",
    "- Lemmatize words and remove stop words\n",
    "- One-Hot encoding\n",
    "- Binary encoding target variable\n",
    "- Removing stopwords"
   ]
  },
  {
   "cell_type": "code",
   "execution_count": 6,
   "id": "f186fc24",
   "metadata": {},
   "outputs": [],
   "source": [
    "corpus = []\n",
    "for i in range(len(df)):\n",
    "    review = re.sub('[^a-zA-Z]', ' ', df.review[i]) \n",
    "    review = re.sub('<br /><br />', ' ', review) \n",
    "    review = re.sub('br    br', ' ', review) \n",
    "    review = review.lower()\n",
    "    review = review.split() \n",
    "    lem = WordNetLemmatizer() # Instantiate Porter Stemmer\n",
    "    review = [lem.lemmatize(word) for word in review if word not in set(stopwords.words('english'))] # Stem words\n",
    "    review = ' '.join(review) # join the stemmed words back to review\n",
    "    corpus.append(review) # add sentences to the corpus "
   ]
  },
  {
   "cell_type": "code",
   "execution_count": 7,
   "id": "a68b1fad",
   "metadata": {},
   "outputs": [],
   "source": [
    "# Vocabulary Size \n",
    "voc = 10000"
   ]
  },
  {
   "cell_type": "code",
   "execution_count": 8,
   "id": "e521b137",
   "metadata": {},
   "outputs": [],
   "source": [
    "# One hot encoding\n",
    "ohe = [one_hot(words, voc) for words in corpus]"
   ]
  },
  {
   "cell_type": "code",
   "execution_count": 9,
   "id": "009bf5eb",
   "metadata": {},
   "outputs": [],
   "source": [
    "# One Hot Encode and apply padding\n",
    "sent_length = 500\n",
    "embed = pad_sequences(ohe, padding = 'pre', maxlen=sent_length)"
   ]
  },
  {
   "cell_type": "code",
   "execution_count": 10,
   "id": "caacda28",
   "metadata": {},
   "outputs": [],
   "source": [
    "# Binary encode the target variable\n",
    "df[\"sentiment\"] = df[\"sentiment\"].replace({\"positive\": 1, \"negative\": 0})\n",
    "\n",
    "X = np.array(embed)\n",
    "y = np.array(df.sentiment)"
   ]
  },
  {
   "cell_type": "code",
   "execution_count": 11,
   "id": "0633f97d",
   "metadata": {},
   "outputs": [],
   "source": [
    "# Split the dataset into training and testing\n",
    "X_train, X_test, y_train, y_test = train_test_split(X, y, train_size = 0.8)"
   ]
  },
  {
   "cell_type": "markdown",
   "id": "6556d120",
   "metadata": {},
   "source": [
    "# 4. Modelling"
   ]
  },
  {
   "cell_type": "markdown",
   "id": "87435503",
   "metadata": {},
   "source": [
    "**1. LSTM based Recurrent Neural Network**"
   ]
  },
  {
   "cell_type": "code",
   "execution_count": 12,
   "id": "17d5b01f",
   "metadata": {},
   "outputs": [],
   "source": [
    "# Modelling\n",
    "emb_dim=40\n",
    "model = Sequential()\n",
    "model.add(Embedding(voc, emb_dim, input_length = sent_length))\n",
    "model.add(LSTM(100))\n",
    "model.add(Dense(1, activation = 'sigmoid'))"
   ]
  },
  {
   "cell_type": "code",
   "execution_count": 13,
   "id": "7ebbbfcd",
   "metadata": {},
   "outputs": [],
   "source": [
    "# Modelling\n",
    "emb_dim=40\n",
    "model = tf.keras.Sequential([Embedding(voc, emb_dim, input_length = sent_length),\n",
    "        tf.keras.layers.LSTM(100),\n",
    "        tf.keras.layers.Dense(1, activation = 'sigmoid')])"
   ]
  },
  {
   "cell_type": "code",
   "execution_count": 14,
   "id": "caef230b",
   "metadata": {},
   "outputs": [
    {
     "name": "stdout",
     "output_type": "stream",
     "text": [
      "Model: \"sequential_1\"\n",
      "_________________________________________________________________\n",
      "Layer (type)                 Output Shape              Param #   \n",
      "=================================================================\n",
      "embedding_1 (Embedding)      (None, 500, 40)           400000    \n",
      "_________________________________________________________________\n",
      "lstm_1 (LSTM)                (None, 100)               56400     \n",
      "_________________________________________________________________\n",
      "dense_1 (Dense)              (None, 1)                 101       \n",
      "=================================================================\n",
      "Total params: 456,501\n",
      "Trainable params: 456,501\n",
      "Non-trainable params: 0\n",
      "_________________________________________________________________\n"
     ]
    }
   ],
   "source": [
    "# Optimizer, metrics and loss function\n",
    "model.compile(loss = 'binary_crossentropy',\n",
    "              optimizer = 'adam',\n",
    "              metrics = ['accuracy'])\n",
    "\n",
    "model.summary()"
   ]
  },
  {
   "cell_type": "code",
   "execution_count": 15,
   "id": "c8875901",
   "metadata": {},
   "outputs": [
    {
     "name": "stdout",
     "output_type": "stream",
     "text": [
      "Epoch 1/10\n",
      "63/63 [==============================] - 5s 33ms/step - loss: 0.6917 - accuracy: 0.5571 - val_loss: 0.6771 - val_accuracy: 0.5575\n",
      "Epoch 2/10\n",
      "63/63 [==============================] - 2s 26ms/step - loss: 0.5188 - accuracy: 0.7572 - val_loss: 0.4920 - val_accuracy: 0.7659\n",
      "Epoch 3/10\n",
      "63/63 [==============================] - 2s 27ms/step - loss: 0.2071 - accuracy: 0.9275 - val_loss: 0.5312 - val_accuracy: 0.7976\n",
      "Epoch 4/10\n",
      "63/63 [==============================] - 2s 27ms/step - loss: 0.0738 - accuracy: 0.9791 - val_loss: 0.6748 - val_accuracy: 0.7718\n",
      "Epoch 5/10\n",
      "63/63 [==============================] - 2s 26ms/step - loss: 0.0267 - accuracy: 0.9935 - val_loss: 0.7582 - val_accuracy: 0.7798\n",
      "Epoch 6/10\n",
      "63/63 [==============================] - 2s 27ms/step - loss: 0.0109 - accuracy: 0.9980 - val_loss: 0.8674 - val_accuracy: 0.7738\n",
      "Epoch 7/10\n",
      "63/63 [==============================] - 2s 27ms/step - loss: 0.0060 - accuracy: 0.9990 - val_loss: 1.0002 - val_accuracy: 0.7698\n",
      "Epoch 8/10\n",
      "63/63 [==============================] - 2s 27ms/step - loss: 0.0020 - accuracy: 1.0000 - val_loss: 1.0501 - val_accuracy: 0.7778\n",
      "Epoch 9/10\n",
      "63/63 [==============================] - 2s 26ms/step - loss: 8.0722e-04 - accuracy: 1.0000 - val_loss: 1.0996 - val_accuracy: 0.7817\n",
      "Epoch 10/10\n",
      "63/63 [==============================] - 2s 26ms/step - loss: 5.2381e-04 - accuracy: 1.0000 - val_loss: 1.0976 - val_accuracy: 0.7837\n"
     ]
    }
   ],
   "source": [
    "# Fit the model\n",
    "history = model.fit(X_train, y_train, \n",
    "                    validation_data=(X_test, y_test),\n",
    "                    epochs =10,\n",
    "                    batch_size=32)"
   ]
  },
  {
   "cell_type": "code",
   "execution_count": 16,
   "id": "9473a9c7",
   "metadata": {},
   "outputs": [
    {
     "name": "stdout",
     "output_type": "stream",
     "text": [
      "RNN-LSTM Accuracy: 78.4 %\n"
     ]
    }
   ],
   "source": [
    "# Predictions\n",
    "y_pred = np.squeeze(model.predict(X_test).round())\n",
    "\n",
    "# Accuracy\n",
    "acc = accuracy_score(y_test, y_pred).round(3)\n",
    "print(\"RNN-LSTM Accuracy:\", acc * 100, '%')"
   ]
  },
  {
   "cell_type": "code",
   "execution_count": 17,
   "id": "fe750c21",
   "metadata": {},
   "outputs": [],
   "source": [
    "# Confusion Matrix & Classification Report\n",
    "\n",
    "def evaluate_model(model, X_test):\n",
    "    \n",
    "    y_pred = np.squeeze(model.predict(X_test).round())\n",
    "    cm = confusion_matrix(y_test, y_pred)\n",
    "    clr = classification_report(y_test, y_pred, target_names=[\"Ham\", \"Spam\"])\n",
    "    plt.figure(figsize=(6, 6))\n",
    "    sns.heatmap(cm, annot=True, fmt='g', vmin=0, cmap='Blues', cbar=False)\n",
    "    plt.xticks(ticks=np.arange(2) + 0.6, labels=[\"positive\", \"negative\"])\n",
    "    plt.yticks(ticks=np.arange(2) + 0.6, labels=[\"positive\", \"negative\"])\n",
    "    plt.xlabel(\"Predicted\")\n",
    "    plt.ylabel(\"Actual\")\n",
    "    plt.title(\"Confusion Matrix\")\n",
    "    plt.show()\n",
    "    \n",
    "    print(\"Testing Accuracy:\", accuracy_score(y_test, y_pred).round(3) * 100, \"%\")\n",
    "    print(\"\\nClassification Report for LSTM-RNN :\\n----------------------------------\\n\", clr)"
   ]
  },
  {
   "cell_type": "code",
   "execution_count": 18,
   "id": "aca0181d",
   "metadata": {},
   "outputs": [
    {
     "data": {
      "image/png": "[encoded data removed]",
      "text/plain": [
       "<Figure size 432x432 with 1 Axes>"
      ]
     },
     "metadata": {},
     "output_type": "display_data"
    },
    {
     "name": "stdout",
     "output_type": "stream",
     "text": [
      "Testing Accuracy: 78.4 %\n",
      "\n",
      "Classification Report for LSTM-RNN :\n",
      "----------------------------------\n",
      "               precision    recall  f1-score   support\n",
      "\n",
      "         Ham       0.77      0.76      0.77       236\n",
      "        Spam       0.79      0.80      0.80       268\n",
      "\n",
      "    accuracy                           0.78       504\n",
      "   macro avg       0.78      0.78      0.78       504\n",
      "weighted avg       0.78      0.78      0.78       504\n",
      "\n"
     ]
    }
   ],
   "source": [
    "evaluate_model(model, X_test)"
   ]
  },
  {
   "cell_type": "markdown",
   "id": "f78df21c",
   "metadata": {},
   "source": [
    "**2. Bi-Directional LSTM based RNN**"
   ]
  },
  {
   "cell_type": "code",
   "execution_count": 19,
   "id": "e8d42d51",
   "metadata": {},
   "outputs": [],
   "source": [
    "model = tf.keras.Sequential([\n",
    "                             tf.keras.layers.Embedding(voc, emb_dim,input_length = sent_length),\n",
    "                             tf.keras.layers.Bidirectional(tf.keras.layers.LSTM(64)),\n",
    "                             tf.keras.layers.Dense(64, activation = 'relu'),\n",
    "                             tf.keras.layers.Dense(1, activation = 'sigmoid')])"
   ]
  },
  {
   "cell_type": "code",
   "execution_count": 20,
   "id": "d45b3db7",
   "metadata": {},
   "outputs": [],
   "source": [
    "model.compile(loss = 'binary_crossentropy',\n",
    "              optimizer = 'adam',\n",
    "              metrics = ['accuracy'])"
   ]
  },
  {
   "cell_type": "code",
   "execution_count": 21,
   "id": "9a5daf90",
   "metadata": {},
   "outputs": [
    {
     "name": "stdout",
     "output_type": "stream",
     "text": [
      "Model: \"sequential_2\"\n",
      "_________________________________________________________________\n",
      "Layer (type)                 Output Shape              Param #   \n",
      "=================================================================\n",
      "embedding_2 (Embedding)      (None, 500, 40)           400000    \n",
      "_________________________________________________________________\n",
      "bidirectional (Bidirectional (None, 128)               53760     \n",
      "_________________________________________________________________\n",
      "dense_2 (Dense)              (None, 64)                8256      \n",
      "_________________________________________________________________\n",
      "dense_3 (Dense)              (None, 1)                 65        \n",
      "=================================================================\n",
      "Total params: 462,081\n",
      "Trainable params: 462,081\n",
      "Non-trainable params: 0\n",
      "_________________________________________________________________\n"
     ]
    }
   ],
   "source": [
    "model.summary()"
   ]
  },
  {
   "cell_type": "code",
   "execution_count": 22,
   "id": "0f7f46f1",
   "metadata": {},
   "outputs": [
    {
     "name": "stdout",
     "output_type": "stream",
     "text": [
      "Epoch 1/10\n",
      "32/32 [==============================] - 4s 66ms/step - loss: 0.6921 - accuracy: 0.5412 - val_loss: 0.6863 - val_accuracy: 0.6369\n",
      "Epoch 2/10\n",
      "32/32 [==============================] - 2s 48ms/step - loss: 0.6383 - accuracy: 0.7279 - val_loss: 0.6117 - val_accuracy: 0.7321\n",
      "Epoch 3/10\n",
      "32/32 [==============================] - 2s 47ms/step - loss: 0.2921 - accuracy: 0.9071 - val_loss: 0.4535 - val_accuracy: 0.7956\n",
      "Epoch 4/10\n",
      "32/32 [==============================] - 1s 46ms/step - loss: 0.0845 - accuracy: 0.9737 - val_loss: 0.5820 - val_accuracy: 0.7956\n",
      "Epoch 5/10\n",
      "32/32 [==============================] - 1s 47ms/step - loss: 0.0231 - accuracy: 0.9960 - val_loss: 0.6904 - val_accuracy: 0.8016\n",
      "Epoch 6/10\n",
      "32/32 [==============================] - 1s 46ms/step - loss: 0.0130 - accuracy: 0.9985 - val_loss: 0.7638 - val_accuracy: 0.7917\n",
      "Epoch 7/10\n",
      "32/32 [==============================] - 1s 46ms/step - loss: 0.0109 - accuracy: 0.9985 - val_loss: 0.7847 - val_accuracy: 0.8095\n",
      "Epoch 8/10\n",
      "32/32 [==============================] - 1s 47ms/step - loss: 0.0071 - accuracy: 0.9990 - val_loss: 0.8372 - val_accuracy: 0.8095\n",
      "Epoch 9/10\n",
      "32/32 [==============================] - 1s 47ms/step - loss: 0.0047 - accuracy: 0.9995 - val_loss: 0.8718 - val_accuracy: 0.8115\n",
      "Epoch 10/10\n",
      "32/32 [==============================] - 1s 47ms/step - loss: 0.0023 - accuracy: 0.9995 - val_loss: 0.9090 - val_accuracy: 0.7937\n"
     ]
    }
   ],
   "source": [
    "history = model.fit(X_train, y_train, validation_data=(X_test, y_test),\n",
    "          epochs =10,\n",
    "          batch_size=64)"
   ]
  },
  {
   "cell_type": "code",
   "execution_count": 23,
   "id": "ad8995a6",
   "metadata": {},
   "outputs": [
    {
     "name": "stdout",
     "output_type": "stream",
     "text": [
      "Bi-Directional RNN Accuracy: 79.4 %\n"
     ]
    }
   ],
   "source": [
    "# Predictions\n",
    "y_pred = np.squeeze(model.predict(X_test).round())\n",
    "\n",
    "# Accuracy\n",
    "acc = accuracy_score(y_test, y_pred).round(3)\n",
    "print(\"Bi-Directional RNN Accuracy:\", acc * 100, '%')"
   ]
  },
  {
   "cell_type": "code",
   "execution_count": 24,
   "id": "4c21eb9a",
   "metadata": {},
   "outputs": [
    {
     "data": {
      "image/png": "[encoded data removed]",
      "text/plain": [
       "<Figure size 432x432 with 1 Axes>"
      ]
     },
     "metadata": {},
     "output_type": "display_data"
    },
    {
     "name": "stdout",
     "output_type": "stream",
     "text": [
      "Testing Accuracy: 79.4 %\n",
      "\n",
      "Classification Report for LSTM-RNN :\n",
      "----------------------------------\n",
      "               precision    recall  f1-score   support\n",
      "\n",
      "         Ham       0.77      0.80      0.78       236\n",
      "        Spam       0.82      0.79      0.80       268\n",
      "\n",
      "    accuracy                           0.79       504\n",
      "   macro avg       0.79      0.79      0.79       504\n",
      "weighted avg       0.79      0.79      0.79       504\n",
      "\n"
     ]
    }
   ],
   "source": [
    "evaluate_model(model, X_test)"
   ]
  },
  {
   "cell_type": "code",
   "execution_count": 25,
   "id": "7d786801",
   "metadata": {},
   "outputs": [
    {
     "data": {
      "image/png": "[encoded data removed]",
      "text/plain": [
       "<Figure size 432x288 with 1 Axes>"
      ]
     },
     "metadata": {},
     "output_type": "display_data"
    },
    {
     "data": {
      "image/png": "[encoded data removed]",
      "text/plain": [
       "<Figure size 432x288 with 1 Axes>"
      ]
     },
     "metadata": {},
     "output_type": "display_data"
    }
   ],
   "source": [
    "def plot_graphs(history, string):\n",
    "    plt.plot(history.history[string])\n",
    "    plt.plot(history.history['val_'+string], linewidth = 2, alpha = 0.75)\n",
    "    plt.xlabel(\"Epochs\")\n",
    "    plt.ylabel(string)\n",
    "    plt.legend([string, 'val_'+string])\n",
    "    plt.show()\n",
    "\n",
    "plot_graphs(history, \"accuracy\")\n",
    "plot_graphs(history, \"loss\")"
   ]
  }
 ],
 "metadata": {
  "kernelspec": {
   "display_name": "Python 3",
   "language": "python",
   "name": "python3"
  },
  "language_info": {
   "codemirror_mode": {
    "name": "ipython",
    "version": 3
   },
   "file_extension": ".py",
   "mimetype": "text/x-python",
   "name": "python",
   "nbconvert_exporter": "python",
   "pygments_lexer": "ipython3",
   "version": "3.8.0"
  }
 },
 "nbformat": 4,
 "nbformat_minor": 5
}
